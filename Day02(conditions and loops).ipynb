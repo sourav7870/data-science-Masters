{
 "cells": [
  {
   "cell_type": "code",
   "execution_count": 2,
   "id": "53d20a9e-d691-47ae-9027-2f43a735f5df",
   "metadata": {},
   "outputs": [
    {
     "name": "stdout",
     "output_type": "stream",
     "text": [
      "HELLO WORLD\n"
     ]
    }
   ],
   "source": [
    "print(\"HELLO WORLD\")"
   ]
  },
  {
   "cell_type": "code",
   "execution_count": 9,
   "id": "ec9faf30-02c1-47e4-90fe-dab7e47e9edd",
   "metadata": {},
   "outputs": [
    {
     "name": "stdout",
     "output_type": "stream",
     "text": [
      "my age is:  29\n"
     ]
    }
   ],
   "source": [
    "age=29\n",
    "print(\"my age is: \",age)"
   ]
  },
  {
   "cell_type": "code",
   "execution_count": 12,
   "id": "3738b0d1-b247-4c96-a1e0-f964a56204ce",
   "metadata": {},
   "outputs": [
    {
     "name": "stdout",
     "output_type": "stream",
     "text": [
      "my age is: 29\n"
     ]
    }
   ],
   "source": [
    "print(f\"my age is: {age}\")"
   ]
  },
  {
   "cell_type": "code",
   "execution_count": 17,
   "id": "518e58d4-8879-4417-972f-e0625534a412",
   "metadata": {},
   "outputs": [
    {
     "name": "stdout",
     "output_type": "stream",
     "text": [
      "my name is saurav and age is 29\n"
     ]
    }
   ],
   "source": [
    "name=\"saurav\"\n",
    "age=29\n",
    "print(\"my name is {} and age is {}\".format(name,age))"
   ]
  },
  {
   "cell_type": "code",
   "execution_count": 18,
   "id": "515b4bb5-d7e5-4b6e-a08b-057570b21072",
   "metadata": {},
   "outputs": [
    {
     "data": {
      "text/plain": [
       "str"
      ]
     },
     "execution_count": 18,
     "metadata": {},
     "output_type": "execute_result"
    }
   ],
   "source": [
    "type(name)"
   ]
  },
  {
   "cell_type": "code",
   "execution_count": 19,
   "id": "10b2ebef-3a5d-45d7-a94e-fa182c716d14",
   "metadata": {},
   "outputs": [
    {
     "data": {
      "text/plain": [
       "int"
      ]
     },
     "execution_count": 19,
     "metadata": {},
     "output_type": "execute_result"
    }
   ],
   "source": [
    "type(age)"
   ]
  },
  {
   "cell_type": "code",
   "execution_count": 24,
   "id": "9003c1cf-88fd-413f-86aa-cc669f9ab949",
   "metadata": {},
   "outputs": [
    {
     "name": "stdout",
     "output_type": "stream",
     "text": [
      "my name is saurav and age is 29\n"
     ]
    }
   ],
   "source": [
    "## placeholder is used in this type \n",
    "print(\"my name is {firstname} and age is {firstage}\".format(firstage=age,firstname=name))"
   ]
  },
  {
   "cell_type": "code",
   "execution_count": null,
   "id": "75797d81-2f8c-434b-ab6c-64255aa15aeb",
   "metadata": {},
   "outputs": [],
   "source": []
  },
  {
   "cell_type": "code",
   "execution_count": 3,
   "id": "aff59fc7-f491-407c-a8d9-f959ce86cb5f",
   "metadata": {},
   "outputs": [
    {
     "name": "stdout",
     "output_type": "stream",
     "text": [
      "my age is 29 and i have completed: my degree of b.com with the name saurav das\n"
     ]
    }
   ],
   "source": [
    "## assignment classwork \n",
    "# task - needed output \" my age is 29 and i have completed: my degree of b.com with the name saurav das\"\n",
    "# use f string and .formating method .\n",
    "\n",
    "name=\"saurav das\"\n",
    "age= 29\n",
    "degree=\"b.com\"\n",
    "\n",
    "## first use f string format\n",
    "\n",
    "print(f\"my age is {age} and i have completed: my degree of {degree} with the name {name}\")\n",
    "\n",
    " "
   ]
  },
  {
   "cell_type": "code",
   "execution_count": 5,
   "id": "67ed71c4-7588-4ac4-80d3-9ec6074b694f",
   "metadata": {},
   "outputs": [
    {
     "name": "stdout",
     "output_type": "stream",
     "text": [
      "my age is 29  and i have completed: my degree of b.com with the name saurav das\n"
     ]
    }
   ],
   "source": [
    "## second use (.format) method\n",
    "\n",
    "print(\"my age is {fage}  and i have completed: my degree of {fdegree} with the name {fname}\".format(fdegree=degree,fage=age,fname=name))"
   ]
  },
  {
   "cell_type": "code",
   "execution_count": null,
   "id": "b01dfccc-1d05-409b-a4bc-2be76a99f16d",
   "metadata": {},
   "outputs": [],
   "source": [
    "\n"
   ]
  },
  {
   "cell_type": "code",
   "execution_count": 1,
   "id": "beb59398-5f5c-4fe9-be55-0f2ce1d0e69e",
   "metadata": {},
   "outputs": [],
   "source": [
    "### if ,if else,if elif if , nested if , single statement suits"
   ]
  },
  {
   "cell_type": "code",
   "execution_count": null,
   "id": "aac95959-51b4-41fe-b94c-a2b7f89e4fa7",
   "metadata": {},
   "outputs": [],
   "source": []
  },
  {
   "cell_type": "code",
   "execution_count": null,
   "id": "f535a942-eb94-46ed-b7d3-83b159040bc8",
   "metadata": {},
   "outputs": [],
   "source": [
    "## if function"
   ]
  },
  {
   "cell_type": "code",
   "execution_count": 4,
   "id": "92f6a0be-5a48-44a5-bd33-632c32887a4c",
   "metadata": {},
   "outputs": [],
   "source": [
    "##Task\n",
    "## take a input of age\n",
    "## check whether age >=18 and age<=45\n",
    "## display a message you are young blood"
   ]
  },
  {
   "cell_type": "code",
   "execution_count": null,
   "id": "11c64ec1-7aac-4f56-aefb-8b125cd631f0",
   "metadata": {},
   "outputs": [],
   "source": []
  },
  {
   "cell_type": "code",
   "execution_count": 24,
   "id": "ced3eb58-d107-4dee-903d-a379cc4614d4",
   "metadata": {},
   "outputs": [
    {
     "name": "stdin",
     "output_type": "stream",
     "text": [
      "enter your age 33\n"
     ]
    }
   ],
   "source": [
    "age=int(input(\"enter your age\"))"
   ]
  },
  {
   "cell_type": "code",
   "execution_count": 25,
   "id": "c162f265-b0fd-4976-a813-85073bba58cc",
   "metadata": {},
   "outputs": [
    {
     "name": "stdout",
     "output_type": "stream",
     "text": [
      "you are young blood\n"
     ]
    }
   ],
   "source": [
    "if age>=18 and age<=45:\n",
    "    print(\"you are young blood\")"
   ]
  },
  {
   "cell_type": "code",
   "execution_count": 1,
   "id": "e0c27ec5-d1d5-4449-899c-d93cc5cf1f4a",
   "metadata": {},
   "outputs": [],
   "source": [
    "## else statement"
   ]
  },
  {
   "cell_type": "code",
   "execution_count": 2,
   "id": "5c50009a-664f-4d3d-8aea-fc8ad068dcbc",
   "metadata": {},
   "outputs": [
    {
     "name": "stdin",
     "output_type": "stream",
     "text": [
      "enter your age 46\n"
     ]
    },
    {
     "name": "stdout",
     "output_type": "stream",
     "text": [
      "thank you we will let you know\n"
     ]
    }
   ],
   "source": [
    "age=int(input(\"enter your age\"))\n",
    "if age>=18 and age<=45:\n",
    "    print(\"you are young blood\")\n",
    "else:\n",
    "    print(\"thank you we will let you know\")"
   ]
  },
  {
   "cell_type": "code",
   "execution_count": 3,
   "id": "fe6c923f-0cd7-45f8-8a4e-ddfff7c4a518",
   "metadata": {},
   "outputs": [],
   "source": [
    "## task 2"
   ]
  },
  {
   "cell_type": "code",
   "execution_count": 4,
   "id": "65e237e5-2cbf-4345-9290-2db7d601c344",
   "metadata": {},
   "outputs": [],
   "source": [
    "## mall - input the product price\n",
    "## product >1000 rs 20% off\n",
    "## print the product price after removing the discount\n",
    "## product <1000 rs 30% off\n",
    "## print the product price after removing the discount"
   ]
  },
  {
   "cell_type": "code",
   "execution_count": 11,
   "id": "1c34ce57-1280-4d66-9437-c5c3a0ecab44",
   "metadata": {},
   "outputs": [
    {
     "name": "stdin",
     "output_type": "stream",
     "text": [
      "enter the product price 1200\n"
     ]
    },
    {
     "name": "stdout",
     "output_type": "stream",
     "text": [
      "product price rs 960.0\n"
     ]
    }
   ],
   "source": [
    "product_price=int(input(\"enter the product price\"))\n",
    "if product_price>1000:\n",
    "    print(f\"product price rs {product_price-product_price*20/100}\")\n",
    "else:    \n",
    "    print(f\"product price rs {product_price-product_price*30/100}\")"
   ]
  },
  {
   "cell_type": "code",
   "execution_count": null,
   "id": "1d8bc00c-8ba4-40a8-bce2-cc97315f7918",
   "metadata": {},
   "outputs": [],
   "source": []
  },
  {
   "cell_type": "code",
   "execution_count": 12,
   "id": "c8b3401a-6079-4d56-8441-970694161cf9",
   "metadata": {},
   "outputs": [],
   "source": [
    "## another method of this task using(.format)"
   ]
  },
  {
   "cell_type": "code",
   "execution_count": 23,
   "id": "010cc473-8c26-4be0-98d2-87ca8a17a171",
   "metadata": {},
   "outputs": [
    {
     "name": "stdin",
     "output_type": "stream",
     "text": [
      "enter the price of the product 450\n"
     ]
    },
    {
     "name": "stdout",
     "output_type": "stream",
     "text": [
      "the price of the product is rs 315.0\n"
     ]
    }
   ],
   "source": [
    "product_price=int(input(\"enter the price of the product\"))\n",
    "if product_price>1000:\n",
    "    print(\"the price of the product is rs {}\".format(product_price*.8))\n",
    "else:\n",
    "          print(\"the price of the product is rs {}\".format(product_price*.7))\n",
    "          \n",
    "                       "
   ]
  },
  {
   "cell_type": "code",
   "execution_count": null,
   "id": "5e754567-e049-471e-82ff-dd1f2fabfee9",
   "metadata": {},
   "outputs": [],
   "source": []
  },
  {
   "cell_type": "code",
   "execution_count": 2,
   "id": "4f77991d-b086-48ff-b6ad-2be1d6cd1c79",
   "metadata": {},
   "outputs": [],
   "source": [
    "##elif function"
   ]
  },
  {
   "cell_type": "code",
   "execution_count": 3,
   "id": "4a4afb13-5cdc-4b59-840a-a701e5f8e4d0",
   "metadata": {},
   "outputs": [],
   "source": [
    "## mall - input the product price\n",
    "## product >3000 rs 20% off\n",
    "## print the product price after removing the discount\n",
    "## product >= 2000 rs and <=3000 30% off\n",
    "## print the product price after removing the discount\n",
    "## product >=1000 rs <=2000 40% off\n",
    "## print the product price after removing the discount"
   ]
  },
  {
   "cell_type": "code",
   "execution_count": 3,
   "id": "ca7c1ca4-91c5-47fa-adf7-e47ccfc7af79",
   "metadata": {},
   "outputs": [
    {
     "name": "stdin",
     "output_type": "stream",
     "text": [
      "enter product price 4599\n"
     ]
    },
    {
     "name": "stdout",
     "output_type": "stream",
     "text": [
      "product price is rs 3679.2000000000003 visit us again \n"
     ]
    }
   ],
   "source": [
    "product_price=int(input(\"enter product price\"))\n",
    "if product_price>3000:\n",
    "    print(f\"product price is rs {product_price*.8} visit us again \")\n",
    "elif product_price>=2000 and product_price<3000:\n",
    "    print(f\"product price is rs {product_price*.7} have a nice day\")\n",
    "elif product_price>=1000 and product_price<2000:\n",
    "    print(f\"product price is rs {product_price*.6}\")\n",
    "else:\n",
    "    print(\"thanks for visit us\")\n",
    "    \n",
    "\n",
    "\n",
    "        \n",
    "    \n"
   ]
  },
  {
   "cell_type": "code",
   "execution_count": null,
   "id": "64e086ef-1b98-44f0-a8a3-502c7a4608f8",
   "metadata": {},
   "outputs": [],
   "source": []
  },
  {
   "cell_type": "code",
   "execution_count": null,
   "id": "577f7705-1d77-46ad-ac29-774f7a9818c0",
   "metadata": {},
   "outputs": [],
   "source": [
    "## nested if function"
   ]
  },
  {
   "cell_type": "code",
   "execution_count": null,
   "id": "accc4985-f072-4c7c-9895-91861f8fa094",
   "metadata": {
    "tags": []
   },
   "outputs": [],
   "source": [
    "## mall - input the product price\n",
    "## product >3000 rs 20% off\n",
    "## product price is==rs 4000\n",
    "## print you won a trip to thailand\n",
    "## print the product price after removing the discount\n",
    "## product >= 2000 rs and <=3000 30% off\n",
    "## product price is==2999\n",
    "## print you won an additonal gift\n",
    "## print the product price after removing the discount\n",
    "## product >=1000 rs <=2000 40% off\n",
    "## print the product price after removing the discount"
   ]
  },
  {
   "cell_type": "code",
   "execution_count": 2,
   "id": "76d0ecf4-5cf3-42fe-9029-24106e207a4e",
   "metadata": {},
   "outputs": [
    {
     "name": "stdin",
     "output_type": "stream",
     "text": [
      "enter the product price 4000\n"
     ]
    },
    {
     "name": "stdout",
     "output_type": "stream",
     "text": [
      "you won a trip to goa\n",
      "product price is rs 3200.0\n"
     ]
    }
   ],
   "source": [
    "product_price=int(input(\"enter the product price\"))\n",
    "if product_price>3000:\n",
    "    if product_price==4000:\n",
    "        print(\"you won a trip to goa\")\n",
    "    print(f\"product price is rs {product_price*.8}\")\n",
    "elif product_price>=2000 and product_price<=3000:\n",
    "    if product_price==2999:\n",
    "        print(\"you won an  additional gift \")\n",
    "    print(f\"product price is rs {product_price*.7}\")\n",
    "elif product_price>=1000 and product_price<2000:\n",
    "    print(f\"product price is rs {product_price*.6}\")\n",
    "else:\n",
    "    print(f\"product price is rs {product_price} happy diwali\")"
   ]
  },
  {
   "cell_type": "code",
   "execution_count": 3,
   "id": "7f0c6961-80bc-4049-a4f0-0977989a795d",
   "metadata": {},
   "outputs": [],
   "source": [
    "## single statement suits"
   ]
  },
  {
   "cell_type": "code",
   "execution_count": 8,
   "id": "078c70c7-e1ab-4cd0-b54d-53841a93831d",
   "metadata": {},
   "outputs": [
    {
     "name": "stdin",
     "output_type": "stream",
     "text": [
      "enter the value 500\n"
     ]
    },
    {
     "name": "stdout",
     "output_type": "stream",
     "text": [
      "value is less than  equal to 999\n"
     ]
    }
   ],
   "source": [
    "val=int(input(\"enter the value\"))\n",
    "if val<=999:print(\"value is less than  equal to 999\")\n",
    "\n",
    "    "
   ]
  },
  {
   "cell_type": "code",
   "execution_count": null,
   "id": "dea42496-ecb7-4ef3-85e9-5cc5e381b2a4",
   "metadata": {},
   "outputs": [],
   "source": []
  },
  {
   "cell_type": "markdown",
   "id": "f5fe9890-28a9-4497-912b-f5198b3a90ba",
   "metadata": {},
   "source": [
    "## loops statement\n",
    "1. while loop\n",
    "2. for loop\n",
    "3. nested loop\n",
    "4. loop control(break,continue,pass)"
   ]
  },
  {
   "cell_type": "code",
   "execution_count": 3,
   "id": "2866dac3-b7bc-42e7-9f4d-753d8b631a34",
   "metadata": {},
   "outputs": [
    {
     "name": "stdout",
     "output_type": "stream",
     "text": [
      "25\n",
      "26\n",
      "27\n",
      "28\n",
      "29\n",
      "30\n",
      "31\n",
      "32\n",
      "33\n",
      "34\n",
      "35\n",
      "36\n",
      "37\n",
      "38\n",
      "39\n",
      "40\n",
      "41\n",
      "42\n",
      "43\n",
      "44\n",
      "45\n",
      "46\n",
      "47\n",
      "48\n",
      "49\n",
      "50\n",
      "51\n",
      "52\n",
      "53\n",
      "54\n",
      "55\n",
      "56\n",
      "57\n",
      "58\n",
      "59\n",
      "60\n",
      "its time for retirement\n"
     ]
    }
   ],
   "source": [
    "joining_age=25\n",
    "while joining_age<=60:\n",
    "    print(joining_age)\n",
    "    joining_age=joining_age+1\n",
    "else:\n",
    "    print(\"its time for retirement\")"
   ]
  },
  {
   "cell_type": "code",
   "execution_count": 4,
   "id": "23dde298-c2e9-4394-b667-dd9e24a8704a",
   "metadata": {},
   "outputs": [],
   "source": [
    "## an atm machine having 1000 cash in total ,every transcation  100 rs come out ,put a codition to show that after 1000 rs atm is out of money\n"
   ]
  },
  {
   "cell_type": "code",
   "execution_count": 6,
   "id": "774bdf89-0849-466f-a56c-7d57a87ee62b",
   "metadata": {},
   "outputs": [
    {
     "name": "stdout",
     "output_type": "stream",
     "text": [
      "100\n",
      "200\n",
      "300\n",
      "400\n",
      "500\n",
      "600\n",
      "700\n",
      "800\n",
      "900\n",
      "1000\n",
      "atm is out of money\n"
     ]
    }
   ],
   "source": [
    "withdrar_amount=100\n",
    "while withdrar_amount<=1000:\n",
    "    print(withdrar_amount)\n",
    "    withdrar_amount=withdrar_amount+100\n",
    "else:\n",
    "    print(\"atm is out of money\")"
   ]
  },
  {
   "cell_type": "code",
   "execution_count": 7,
   "id": "841916a0-b270-4b81-8bd9-2f4b5b558f20",
   "metadata": {},
   "outputs": [],
   "source": [
    "### an atm machine having 1000 cash in total ,every transcation  100 rs come out ,put a codition to show that after 1000 rs atm is out of money\n",
    "## another way to solve the statement\n",
    "## Atm machine having 1000"
   ]
  },
  {
   "cell_type": "code",
   "execution_count": 9,
   "id": "e95e6e6c-4357-44ab-92f8-0014ba558e9e",
   "metadata": {},
   "outputs": [
    {
     "name": "stdout",
     "output_type": "stream",
     "text": [
      "1000\n",
      "900\n",
      "800\n",
      "700\n",
      "600\n",
      "500\n",
      "400\n",
      "300\n",
      "200\n",
      "100\n",
      "atm is out of money\n"
     ]
    }
   ],
   "source": [
    "total_amt=1000\n",
    "while total_amt!=0:\n",
    "    print(total_amt)\n",
    "    total_amt=total_amt-100\n",
    "else:\n",
    "    print(\"atm is out of money\")"
   ]
  },
  {
   "cell_type": "code",
   "execution_count": null,
   "id": "ebf2cb05-e86d-4264-b6fb-cb32abd942f5",
   "metadata": {},
   "outputs": [],
   "source": []
  },
  {
   "cell_type": "code",
   "execution_count": 10,
   "id": "63e9c2b7-5208-4b82-9d72-2190ededaacc",
   "metadata": {},
   "outputs": [],
   "source": [
    "##for loop"
   ]
  },
  {
   "cell_type": "code",
   "execution_count": 1,
   "id": "70139d2f-9a89-4173-87a0-e7e6dbe3ee2e",
   "metadata": {},
   "outputs": [
    {
     "name": "stdout",
     "output_type": "stream",
     "text": [
      "mango\n",
      "papaya\n",
      "banana\n",
      "the fruit is banana\n",
      "cherry\n",
      "guava\n"
     ]
    }
   ],
   "source": [
    "fruit_list=[\"mango\",\"papaya\",\"banana\",\"cherry\",\"guava\"]\n",
    "for a in fruit_list:\n",
    "    print(a)\n",
    "    if a==\"banana\":\n",
    "        print(\"the fruit is banana\")\n",
    "        "
   ]
  },
  {
   "cell_type": "code",
   "execution_count": 3,
   "id": "2b9b1ea7-9f27-4483-a1c0-e78c76f75665",
   "metadata": {},
   "outputs": [
    {
     "data": {
      "text/plain": [
       "'banana'"
      ]
     },
     "execution_count": 3,
     "metadata": {},
     "output_type": "execute_result"
    }
   ],
   "source": [
    "fruit_list[2]"
   ]
  },
  {
   "cell_type": "code",
   "execution_count": null,
   "id": "2ded8b24-6f7e-4f73-8579-468897f9c381",
   "metadata": {},
   "outputs": [],
   "source": []
  },
  {
   "cell_type": "code",
   "execution_count": 4,
   "id": "dfd7d936-c068-4171-a7d1-cb2cdac9d208",
   "metadata": {},
   "outputs": [],
   "source": [
    "## nested loop"
   ]
  },
  {
   "cell_type": "code",
   "execution_count": 8,
   "id": "5aecba74-80a2-49d2-a2fc-2a9b534a8915",
   "metadata": {},
   "outputs": [
    {
     "name": "stdout",
     "output_type": "stream",
     "text": [
      "1\n",
      "4\n",
      "7\n",
      "10\n",
      "13\n"
     ]
    }
   ],
   "source": [
    "## range\n",
    "for i in range(1,15,3):\n",
    "    print(i)"
   ]
  },
  {
   "cell_type": "code",
   "execution_count": 36,
   "id": "35d34366-91bc-481f-a476-7ee208f8d5f7",
   "metadata": {},
   "outputs": [
    {
     "name": "stdout",
     "output_type": "stream",
     "text": [
      "*\n",
      "**\n",
      "***\n",
      "****\n",
      "*****\n",
      "******\n",
      "*******\n",
      "********\n",
      "*********\n",
      "**********\n",
      "***********\n",
      "************\n"
     ]
    }
   ],
   "source": [
    "## nested loop\n",
    "n=12\n",
    "\n",
    "for i in range(0,n):\n",
    "    for j in range(0,i+1):\n",
    "        print(\"*\",end=\"\")\n",
    "    print(\"\\r\")  \n",
    "        \n",
    "     "
   ]
  },
  {
   "cell_type": "code",
   "execution_count": 22,
   "id": "60ba98ee-9dce-4734-baa5-b303de7798df",
   "metadata": {},
   "outputs": [
    {
     "name": "stdin",
     "output_type": "stream",
     "text": [
      "enter number of row 8\n"
     ]
    },
    {
     "name": "stdout",
     "output_type": "stream",
     "text": [
      "       *\n",
      "      ***\n",
      "     *****\n",
      "    *******\n",
      "   *********\n",
      "  ***********\n",
      " *************\n",
      "***************\n"
     ]
    }
   ],
   "source": [
    "## lets create a quilateral triangle(not completed yet)\n",
    "\n",
    "num_row=int(input(\"enter number of row\"))\n",
    "row=0\n",
    "while row<num_row:\n",
    "    row=row+1\n",
    "    s=num_row-row\n",
    "    \n",
    "    sc=0\n",
    "    while(sc<s):\n",
    "        print(\" \",end=\"\")\n",
    "        sc=sc+1\n",
    "        \n",
    "    stars=2*row-1\n",
    "    while(stars>0):\n",
    "        print(\"*\",end=\"\")\n",
    "        stars=stars-1\n",
    "        \n",
    "    print()\n",
    "      "
   ]
  },
  {
   "cell_type": "code",
   "execution_count": 18,
   "id": "8a405c61-099f-4010-99c5-baba5dc1f717",
   "metadata": {},
   "outputs": [],
   "source": [
    "## loop control(break,pass,continue)"
   ]
  },
  {
   "cell_type": "code",
   "execution_count": 19,
   "id": "c2f33b52-ef7c-41d9-9332-4c9f7d88cd0f",
   "metadata": {},
   "outputs": [
    {
     "name": "stdout",
     "output_type": "stream",
     "text": [
      "mango\n",
      "papaya\n",
      "the fruit is banana\n"
     ]
    }
   ],
   "source": [
    "## break\n",
    "fruit_list=[\"mango\",\"papaya\",\"banana\",\"cherry\",\"guava\"]\n",
    "for a in fruit_list:\n",
    "    if a==\"banana\":\n",
    "        print(\"the fruit is banana\")\n",
    "        break\n",
    "    print(a)\n",
    "    \n",
    "    "
   ]
  },
  {
   "cell_type": "code",
   "execution_count": null,
   "id": "51bf5e98-32f4-4c58-8178-836e92c4c4c6",
   "metadata": {},
   "outputs": [],
   "source": []
  }
 ],
 "metadata": {
  "kernelspec": {
   "display_name": "Python 3 (ipykernel)",
   "language": "python",
   "name": "python3"
  },
  "language_info": {
   "codemirror_mode": {
    "name": "ipython",
    "version": 3
   },
   "file_extension": ".py",
   "mimetype": "text/x-python",
   "name": "python",
   "nbconvert_exporter": "python",
   "pygments_lexer": "ipython3",
   "version": "3.10.8"
  }
 },
 "nbformat": 4,
 "nbformat_minor": 5
}
